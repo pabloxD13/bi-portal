{
 "cells": [
  {
   "cell_type": "code",
   "execution_count": 7,
   "metadata": {},
   "outputs": [
    {
     "data": {
      "text/plain": [
       "True"
      ]
     },
     "execution_count": 7,
     "metadata": {},
     "output_type": "execute_result"
    }
   ],
   "source": [
    "import psycopg2\n",
    "import pandas as pd\n",
    "import os\n",
    "from dotenv import load_dotenv\n",
    "\n",
    "load_dotenv()"
   ]
  },
  {
   "cell_type": "code",
   "execution_count": 12,
   "metadata": {},
   "outputs": [],
   "source": [
    "passw = os.environ['password']\n",
    "user_1 = os.environ['user']\n",
    "db = os.environ['db']\n",
    "porta = os.environ['port']\n",
    "hosts = os.environ['host']"
   ]
  },
  {
   "cell_type": "code",
   "execution_count": null,
   "metadata": {},
   "outputs": [
    {
     "name": "stderr",
     "output_type": "stream",
     "text": [
      "/tmp/ipykernel_1294/3092128646.py:10: UserWarning: pandas only supports SQLAlchemy connectable (engine/connection) or database string URI or sqlite3 DBAPI2 connection. Other DBAPI2 objects are not tested. Please consider using SQLAlchemy.\n",
      "  df = pd.read_sql_query(query, connection)\n"
     ]
    }
   ],
   "source": [
    "# Titulos\n",
    "connection = psycopg2.connect(\n",
    "    database=db, \n",
    "    user=user_1, \n",
    "    password=passw, \n",
    "    host=hosts, \n",
    "    port=porta\n",
    "    )\n",
    "query = (\"SELECT * from public.financeiro_titulo;\")\n",
    "df = pd.read_sql_query(query, connection)\n",
    "connection.close()\n",
    "df['data_pagamento'] = pd.to_datetime(df['data_pagamento'])\n",
    "df.to_csv(\"titulos.csv\", index=False)"
   ]
  },
  {
   "cell_type": "code",
   "execution_count": 3,
   "metadata": {},
   "outputs": [
    {
     "name": "stderr",
     "output_type": "stream",
     "text": [
      "/tmp/ipykernel_888/1463535837.py:10: UserWarning: pandas only supports SQLAlchemy connectable (engine/connection) or database string URI or sqlite3 DBAPI2 connection. Other DBAPI2 objects are not tested. Please consider using SQLAlchemy.\n",
      "  df = pd.read_sql_query(query, connection)\n"
     ]
    }
   ],
   "source": [
    "# Planos-Pops\n",
    "connection = psycopg2.connect(\n",
    "    database=\"dbtoptelecomunicacaogo\", \n",
    "    user=\"consulta_toptelecomunicacaogo\", \n",
    "    password=\"Kzm4I6CRS/FgHK5A\", \n",
    "    host=\"177.52.36.214\", \n",
    "    port=5432\n",
    "    )\n",
    "query = (\"SELECT app.id, app.pop_id, app.plano_id, ap.descricao, ap.preco, ap.ativo, ap.diasparaaviso, ap.diasparabloqueio, apop.ativo AS apop_ativo, apop.cidade, apop.uf FROM public.admcore_plano_pops app LEFT JOIN public.admcore_plano ap ON app.plano_id = ap.id LEFT JOIN public.admcore_pop apop ON app.pop_id = apop.id;\")\n",
    "df = pd.read_sql_query(query, connection)\n",
    "connection.close()\n",
    "df.to_csv(\"planos-pops.csv\", index=False)"
   ]
  },
  {
   "cell_type": "code",
   "execution_count": null,
   "metadata": {},
   "outputs": [
    {
     "name": "stderr",
     "output_type": "stream",
     "text": [
      "/tmp/ipykernel_888/1703116700.py:10: UserWarning: pandas only supports SQLAlchemy connectable (engine/connection) or database string URI or sqlite3 DBAPI2 connection. Other DBAPI2 objects are not tested. Please consider using SQLAlchemy.\n",
      "  df = pd.read_sql_query(query, connection)\n"
     ]
    }
   ],
   "source": [
    "# Contratos-Clientes\n",
    "connection = psycopg2.connect(\n",
    "    database=\"dbtoptelecomunicacaogo\", \n",
    "    user=\"consulta_toptelecomunicacaogo\", \n",
    "    password=\"Kzm4I6CRS/FgHK5A\", \n",
    "    host=\"177.52.36.214\", \n",
    "    port=5432\n",
    "    )\n",
    "query = (\"SELECT apc.id, apc.data_fim, apc.data_cadastro, apc.data_alteracao, apc.pop_id, apc.cliente_id, apc.status_id, acs.status, apc.central_acesso FROM public.admcore_clientecontrato apc left join public.admcore_clientecontratostatus acs on acs.id = apc.status_id;\")\n",
    "df = pd.read_sql_query(query, connection)\n",
    "connection.close()\n",
    "df.to_csv(\"contratos-clientes.csv\", index=False)"
   ]
  },
  {
   "cell_type": "code",
   "execution_count": null,
   "metadata": {},
   "outputs": [
    {
     "name": "stderr",
     "output_type": "stream",
     "text": [
      "/tmp/ipykernel_888/1310961778.py:10: UserWarning: pandas only supports SQLAlchemy connectable (engine/connection) or database string URI or sqlite3 DBAPI2 connection. Other DBAPI2 objects are not tested. Please consider using SQLAlchemy.\n",
      "  df = pd.read_sql_query(query, connection)\n"
     ]
    }
   ],
   "source": [
    "# Clientes\n",
    "connection = psycopg2.connect(\n",
    "    database=\"dbtoptelecomunicacaogo\", \n",
    "    user=\"consulta_toptelecomunicacaogo\", \n",
    "    password=\"Kzm4I6CRS/FgHK5A\", \n",
    "    host=\"177.52.36.214\", \n",
    "    port=5432\n",
    "    )\n",
    "query = (\"select ac.id as cliente_id, ap.nome, ap.tipopessoa, ap.cpfcnpj, ac.data_cadastro, ac.ativo, ac.pessoa_id, ae.logradouro, ae.bairro, ae.cidade, ae.uf FROM public.admcore_cliente ac left join public.admcore_pessoa ap on ap.id = ac.pessoa_id left join public.admcore_endereco ae on ae.id = ac.endereco_id;\")\n",
    "df = pd.read_sql_query(query, connection)\n",
    "connection.close()\n",
    "df.to_csv(\"clientes.csv\", index=False)"
   ]
  },
  {
   "cell_type": "code",
   "execution_count": 7,
   "metadata": {},
   "outputs": [
    {
     "name": "stderr",
     "output_type": "stream",
     "text": [
      "/tmp/ipykernel_888/536084849.py:10: UserWarning: pandas only supports SQLAlchemy connectable (engine/connection) or database string URI or sqlite3 DBAPI2 connection. Other DBAPI2 objects are not tested. Please consider using SQLAlchemy.\n",
      "  df = pd.read_sql_query(query, connection)\n"
     ]
    }
   ],
   "source": [
    "# Pops\n",
    "connection = psycopg2.connect(\n",
    "    database=\"dbtoptelecomunicacaogo\", \n",
    "    user=\"consulta_toptelecomunicacaogo\", \n",
    "    password=\"Kzm4I6CRS/FgHK5A\", \n",
    "    host=\"177.52.36.214\", \n",
    "    port=5432\n",
    "    )\n",
    "query = (\"SELECT id as pop_id, cidade, uf, ativo FROM public.admcore_pop;\")\n",
    "df = pd.read_sql_query(query, connection)\n",
    "connection.close()\n",
    "df.to_csv(\"pop.csv\", index=False)"
   ]
  }
 ],
 "metadata": {
  "kernelspec": {
   "display_name": "venv",
   "language": "python",
   "name": "python3"
  },
  "language_info": {
   "codemirror_mode": {
    "name": "ipython",
    "version": 3
   },
   "file_extension": ".py",
   "mimetype": "text/x-python",
   "name": "python",
   "nbconvert_exporter": "python",
   "pygments_lexer": "ipython3",
   "version": "3.12.3"
  }
 },
 "nbformat": 4,
 "nbformat_minor": 2
}
